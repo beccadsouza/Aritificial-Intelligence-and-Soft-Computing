{
 "cells": [
  {
   "cell_type": "markdown",
   "metadata": {},
   "source": [
    "### Importing Libraries"
   ]
  },
  {
   "cell_type": "code",
   "execution_count": 1,
   "metadata": {
    "colab": {},
    "colab_type": "code",
    "id": "vcQwuDY6tWDN",
    "pycharm": {
     "is_executing": false
    }
   },
   "outputs": [],
   "source": [
    "from numpy import *\n",
    "from numpy.random import *"
   ]
  },
  {
   "cell_type": "markdown",
   "metadata": {},
   "source": [
    "### Creating Random Fuzzy sets A and B"
   ]
  },
  {
   "cell_type": "code",
   "execution_count": 2,
   "metadata": {
    "colab": {},
    "colab_type": "code",
    "id": "nVkua1n_tsRs",
    "pycharm": {
     "is_executing": false
    }
   },
   "outputs": [],
   "source": [
    "A = [(round(mu, 2), i+1) for i, mu in enumerate(ranf(size=(1,10))[0])]"
   ]
  },
  {
   "cell_type": "code",
   "execution_count": 3,
   "metadata": {
    "colab": {
     "base_uri": "https://localhost:8080/",
     "height": 201
    },
    "colab_type": "code",
    "id": "cGxH-oV0t6ot",
    "outputId": "12b7e8c6-7840-4704-c6b8-278aec4e8df0",
    "pycharm": {
     "is_executing": false
    }
   },
   "outputs": [
    {
     "data": {
      "text/plain": [
       "[(0.15, 1),\n",
       " (0.62, 2),\n",
       " (0.38, 3),\n",
       " (0.61, 4),\n",
       " (0.64, 5),\n",
       " (0.62, 6),\n",
       " (0.07, 7),\n",
       " (0.77, 8),\n",
       " (0.55, 9),\n",
       " (0.71, 10)]"
      ]
     },
     "execution_count": 3,
     "metadata": {},
     "output_type": "execute_result"
    }
   ],
   "source": [
    "A"
   ]
  },
  {
   "cell_type": "code",
   "execution_count": 4,
   "metadata": {
    "colab": {},
    "colab_type": "code",
    "id": "xavpthYBuRQK",
    "pycharm": {
     "is_executing": false
    }
   },
   "outputs": [],
   "source": [
    "B = [(round(mu, 2), i+1) for i, mu in enumerate(ranf(size=(1,10))[0])]"
   ]
  },
  {
   "cell_type": "code",
   "execution_count": 5,
   "metadata": {
    "colab": {
     "base_uri": "https://localhost:8080/",
     "height": 201
    },
    "colab_type": "code",
    "id": "9Nw8hyn1vMg-",
    "outputId": "8fd2435e-aadf-4b6b-e3e3-07e863d6f447",
    "pycharm": {
     "is_executing": false
    }
   },
   "outputs": [
    {
     "data": {
      "text/plain": [
       "[(0.68, 1),\n",
       " (0.18, 2),\n",
       " (0.11, 3),\n",
       " (0.06, 4),\n",
       " (0.67, 5),\n",
       " (0.01, 6),\n",
       " (0.56, 7),\n",
       " (0.18, 8),\n",
       " (0.98, 9),\n",
       " (0.16, 10)]"
      ]
     },
     "execution_count": 5,
     "metadata": {},
     "output_type": "execute_result"
    }
   ],
   "source": [
    "B"
   ]
  },
  {
   "cell_type": "markdown",
   "metadata": {},
   "source": [
    "### Union Operation"
   ]
  },
  {
   "cell_type": "code",
   "execution_count": 6,
   "metadata": {
    "colab": {},
    "colab_type": "code",
    "id": "-VwKoHStvNBG",
    "pycharm": {
     "is_executing": false
    }
   },
   "outputs": [],
   "source": [
    "A_union_B = [(max([A[i][0], B[i][0]]), i+1) for i in range(10)]"
   ]
  },
  {
   "cell_type": "code",
   "execution_count": 7,
   "metadata": {
    "colab": {
     "base_uri": "https://localhost:8080/",
     "height": 201
    },
    "colab_type": "code",
    "id": "PUiREHR5vghP",
    "outputId": "f64af56d-6897-4bdc-884e-d46ba703a7d2",
    "pycharm": {
     "is_executing": false
    }
   },
   "outputs": [
    {
     "data": {
      "text/plain": [
       "[(0.68, 1),\n",
       " (0.62, 2),\n",
       " (0.38, 3),\n",
       " (0.61, 4),\n",
       " (0.67, 5),\n",
       " (0.62, 6),\n",
       " (0.56, 7),\n",
       " (0.77, 8),\n",
       " (0.98, 9),\n",
       " (0.71, 10)]"
      ]
     },
     "execution_count": 7,
     "metadata": {},
     "output_type": "execute_result"
    }
   ],
   "source": [
    "A_union_B"
   ]
  },
  {
   "cell_type": "markdown",
   "metadata": {},
   "source": [
    "### Intersection Operation"
   ]
  },
  {
   "cell_type": "code",
   "execution_count": 8,
   "metadata": {
    "colab": {},
    "colab_type": "code",
    "id": "wEt-lstKvh5A",
    "pycharm": {
     "is_executing": false
    }
   },
   "outputs": [],
   "source": [
    "A_intersect_B = [(min([A[i][0], B[i][0]]), i+1) for i in range(10)]"
   ]
  },
  {
   "cell_type": "code",
   "execution_count": 9,
   "metadata": {
    "colab": {
     "base_uri": "https://localhost:8080/",
     "height": 201
    },
    "colab_type": "code",
    "id": "YaJZULHYvy5l",
    "outputId": "2421dd5a-8ea4-426b-a983-b076a470b512",
    "pycharm": {
     "is_executing": false
    }
   },
   "outputs": [
    {
     "data": {
      "text/plain": [
       "[(0.15, 1),\n",
       " (0.18, 2),\n",
       " (0.11, 3),\n",
       " (0.06, 4),\n",
       " (0.64, 5),\n",
       " (0.01, 6),\n",
       " (0.07, 7),\n",
       " (0.18, 8),\n",
       " (0.55, 9),\n",
       " (0.16, 10)]"
      ]
     },
     "execution_count": 9,
     "metadata": {},
     "output_type": "execute_result"
    }
   ],
   "source": [
    "A_intersect_B"
   ]
  },
  {
   "cell_type": "markdown",
   "metadata": {},
   "source": [
    "### Complement Operation"
   ]
  },
  {
   "cell_type": "code",
   "execution_count": 10,
   "metadata": {
    "colab": {},
    "colab_type": "code",
    "id": "_wU0YIyRvz-l",
    "pycharm": {
     "is_executing": false
    }
   },
   "outputs": [],
   "source": [
    "A_complement = [(round(1-x[0],2), x[1]) for x in A]"
   ]
  },
  {
   "cell_type": "code",
   "execution_count": 11,
   "metadata": {
    "colab": {
     "base_uri": "https://localhost:8080/",
     "height": 201
    },
    "colab_type": "code",
    "id": "O6DE4TPjwUs0",
    "outputId": "5b4c4eac-4220-4eaf-d3ab-359d8b6d91ee",
    "pycharm": {
     "is_executing": false
    }
   },
   "outputs": [
    {
     "data": {
      "text/plain": [
       "[(0.85, 1),\n",
       " (0.38, 2),\n",
       " (0.62, 3),\n",
       " (0.39, 4),\n",
       " (0.36, 5),\n",
       " (0.38, 6),\n",
       " (0.93, 7),\n",
       " (0.23, 8),\n",
       " (0.45, 9),\n",
       " (0.29, 10)]"
      ]
     },
     "execution_count": 11,
     "metadata": {},
     "output_type": "execute_result"
    }
   ],
   "source": [
    "A_complement"
   ]
  },
  {
   "cell_type": "code",
   "execution_count": 12,
   "metadata": {
    "colab": {},
    "colab_type": "code",
    "id": "3c4SGu2NwV6P",
    "pycharm": {
     "is_executing": false
    }
   },
   "outputs": [],
   "source": [
    "B_complement = [(round(1-x[0],2), x[1]) for x in B]"
   ]
  },
  {
   "cell_type": "code",
   "execution_count": 13,
   "metadata": {
    "colab": {
     "base_uri": "https://localhost:8080/",
     "height": 201
    },
    "colab_type": "code",
    "id": "2UfHtBtJxDsT",
    "outputId": "3b56f520-8d40-432d-b9bd-d67265dbd10b",
    "pycharm": {
     "is_executing": false
    }
   },
   "outputs": [
    {
     "data": {
      "text/plain": [
       "[(0.32, 1),\n",
       " (0.82, 2),\n",
       " (0.89, 3),\n",
       " (0.94, 4),\n",
       " (0.33, 5),\n",
       " (0.99, 6),\n",
       " (0.44, 7),\n",
       " (0.82, 8),\n",
       " (0.02, 9),\n",
       " (0.84, 10)]"
      ]
     },
     "execution_count": 13,
     "metadata": {},
     "output_type": "execute_result"
    }
   ],
   "source": [
    "B_complement"
   ]
  },
  {
   "cell_type": "markdown",
   "metadata": {},
   "source": [
    "### Algebric(Vector) Product Operation"
   ]
  },
  {
   "cell_type": "code",
   "execution_count": 14,
   "metadata": {
    "colab": {},
    "colab_type": "code",
    "id": "orI6Rf9dxExK",
    "pycharm": {
     "is_executing": false
    }
   },
   "outputs": [],
   "source": [
    "A_product_B = [(round(A[i][0]*B[i][0], 2), i+1) for i in range(10)]"
   ]
  },
  {
   "cell_type": "code",
   "execution_count": 15,
   "metadata": {
    "colab": {
     "base_uri": "https://localhost:8080/",
     "height": 201
    },
    "colab_type": "code",
    "id": "FI4r_2GezAv1",
    "outputId": "d5fb643b-9cb8-45ff-8a67-f830c2919389",
    "pycharm": {
     "is_executing": false
    }
   },
   "outputs": [
    {
     "data": {
      "text/plain": [
       "[(0.1, 1),\n",
       " (0.11, 2),\n",
       " (0.04, 3),\n",
       " (0.04, 4),\n",
       " (0.43, 5),\n",
       " (0.01, 6),\n",
       " (0.04, 7),\n",
       " (0.14, 8),\n",
       " (0.54, 9),\n",
       " (0.11, 10)]"
      ]
     },
     "execution_count": 15,
     "metadata": {},
     "output_type": "execute_result"
    }
   ],
   "source": [
    "A_product_B"
   ]
  },
  {
   "cell_type": "markdown",
   "metadata": {},
   "source": [
    "### Scalar Product Operation"
   ]
  },
  {
   "cell_type": "code",
   "execution_count": 16,
   "metadata": {
    "colab": {},
    "colab_type": "code",
    "id": "fpaPsRaHzCG3",
    "pycharm": {
     "is_executing": false
    }
   },
   "outputs": [],
   "source": [
    "A_scalar_product = [(round(0.65*x[0],2), x[1]) for x in A]"
   ]
  },
  {
   "cell_type": "code",
   "execution_count": 17,
   "metadata": {
    "colab": {
     "base_uri": "https://localhost:8080/",
     "height": 201
    },
    "colab_type": "code",
    "id": "I8N284ALz3CP",
    "outputId": "5c9784e2-7796-4b79-fb49-1fbe597a6c9b",
    "pycharm": {
     "is_executing": false
    }
   },
   "outputs": [
    {
     "data": {
      "text/plain": [
       "[(0.1, 1),\n",
       " (0.4, 2),\n",
       " (0.25, 3),\n",
       " (0.4, 4),\n",
       " (0.42, 5),\n",
       " (0.4, 6),\n",
       " (0.05, 7),\n",
       " (0.5, 8),\n",
       " (0.36, 9),\n",
       " (0.46, 10)]"
      ]
     },
     "execution_count": 17,
     "metadata": {},
     "output_type": "execute_result"
    }
   ],
   "source": [
    "A_scalar_product"
   ]
  },
  {
   "cell_type": "markdown",
   "metadata": {},
   "source": [
    "### Sum Operation"
   ]
  },
  {
   "cell_type": "code",
   "execution_count": 18,
   "metadata": {
    "colab": {},
    "colab_type": "code",
    "id": "RPPYQNbXz4On",
    "pycharm": {
     "is_executing": false
    }
   },
   "outputs": [],
   "source": [
    "A_sum_B = [(round(A[i][0]+B[i][0]-A[i][0]*B[i][0], 2), i+1) for i in range(10)]"
   ]
  },
  {
   "cell_type": "code",
   "execution_count": 19,
   "metadata": {
    "colab": {
     "base_uri": "https://localhost:8080/",
     "height": 201
    },
    "colab_type": "code",
    "id": "k8kLWf7D0Yxq",
    "outputId": "fee033a9-91e9-4919-d5d3-62b2934b448f",
    "pycharm": {
     "is_executing": false
    }
   },
   "outputs": [
    {
     "data": {
      "text/plain": [
       "[(0.73, 1),\n",
       " (0.69, 2),\n",
       " (0.45, 3),\n",
       " (0.63, 4),\n",
       " (0.88, 5),\n",
       " (0.62, 6),\n",
       " (0.59, 7),\n",
       " (0.81, 8),\n",
       " (0.99, 9),\n",
       " (0.76, 10)]"
      ]
     },
     "execution_count": 19,
     "metadata": {},
     "output_type": "execute_result"
    }
   ],
   "source": [
    "A_sum_B"
   ]
  },
  {
   "cell_type": "markdown",
   "metadata": {},
   "source": [
    "### Difference Operation"
   ]
  },
  {
   "cell_type": "code",
   "execution_count": 20,
   "metadata": {
    "colab": {},
    "colab_type": "code",
    "id": "g82LBb2P0aDd",
    "pycharm": {
     "is_executing": false
    }
   },
   "outputs": [],
   "source": [
    "A_difference_B =  [(round(A[i][0]*B_complement[i][0], 2), i+1) for i in range(10)]"
   ]
  },
  {
   "cell_type": "code",
   "execution_count": 21,
   "metadata": {
    "colab": {
     "base_uri": "https://localhost:8080/",
     "height": 201
    },
    "colab_type": "code",
    "id": "RIRET_z70k6r",
    "outputId": "1cc35416-e0ee-42d0-b6fc-f3b289d4b5d4",
    "pycharm": {
     "is_executing": false
    }
   },
   "outputs": [
    {
     "data": {
      "text/plain": [
       "[(0.05, 1),\n",
       " (0.51, 2),\n",
       " (0.34, 3),\n",
       " (0.57, 4),\n",
       " (0.21, 5),\n",
       " (0.61, 6),\n",
       " (0.03, 7),\n",
       " (0.63, 8),\n",
       " (0.01, 9),\n",
       " (0.6, 10)]"
      ]
     },
     "execution_count": 21,
     "metadata": {},
     "output_type": "execute_result"
    }
   ],
   "source": [
    "A_difference_B"
   ]
  },
  {
   "cell_type": "code",
   "execution_count": 22,
   "metadata": {
    "colab": {},
    "colab_type": "code",
    "id": "vm0Jabeg0mCk",
    "pycharm": {
     "is_executing": false
    }
   },
   "outputs": [],
   "source": [
    "B_difference_A = [(round(B[i][0]*A_complement[i][0], 2), i+1) for i in range(10)]"
   ]
  },
  {
   "cell_type": "code",
   "execution_count": 23,
   "metadata": {
    "colab": {
     "base_uri": "https://localhost:8080/",
     "height": 201
    },
    "colab_type": "code",
    "id": "yAGWZLRn1ESj",
    "outputId": "f4206104-a9e0-44a9-862e-4e12f6fb1906",
    "pycharm": {
     "is_executing": false
    }
   },
   "outputs": [
    {
     "data": {
      "text/plain": [
       "[(0.58, 1),\n",
       " (0.07, 2),\n",
       " (0.07, 3),\n",
       " (0.02, 4),\n",
       " (0.24, 5),\n",
       " (0.0, 6),\n",
       " (0.52, 7),\n",
       " (0.04, 8),\n",
       " (0.44, 9),\n",
       " (0.05, 10)]"
      ]
     },
     "execution_count": 23,
     "metadata": {},
     "output_type": "execute_result"
    }
   ],
   "source": [
    "B_difference_A"
   ]
  },
  {
   "cell_type": "markdown",
   "metadata": {},
   "source": [
    "### Disjunctive Sum Operation"
   ]
  },
  {
   "cell_type": "code",
   "execution_count": 24,
   "metadata": {
    "colab": {},
    "colab_type": "code",
    "id": "ZTQK1qY91Fxi",
    "pycharm": {
     "is_executing": false
    }
   },
   "outputs": [],
   "source": [
    "A_disjunctive_sum_B = [(max([B_difference_A[i][0], A_difference_B[i][0]]), i+1) for i in range(10)]"
   ]
  },
  {
   "cell_type": "code",
   "execution_count": 25,
   "metadata": {
    "colab": {
     "base_uri": "https://localhost:8080/",
     "height": 201
    },
    "colab_type": "code",
    "id": "eFuv_LT81W96",
    "outputId": "e9c19d16-0f19-4090-a787-8597c2cd3481",
    "pycharm": {
     "is_executing": false
    }
   },
   "outputs": [
    {
     "data": {
      "text/plain": [
       "[(0.58, 1),\n",
       " (0.51, 2),\n",
       " (0.34, 3),\n",
       " (0.57, 4),\n",
       " (0.24, 5),\n",
       " (0.61, 6),\n",
       " (0.52, 7),\n",
       " (0.63, 8),\n",
       " (0.44, 9),\n",
       " (0.6, 10)]"
      ]
     },
     "execution_count": 25,
     "metadata": {},
     "output_type": "execute_result"
    }
   ],
   "source": [
    "A_disjunctive_sum_B"
   ]
  },
  {
   "cell_type": "markdown",
   "metadata": {},
   "source": [
    "### Bounded Sum Operation"
   ]
  },
  {
   "cell_type": "code",
   "execution_count": 26,
   "metadata": {
    "colab": {},
    "colab_type": "code",
    "id": "sEXeCst11YZp",
    "pycharm": {
     "is_executing": false
    }
   },
   "outputs": [],
   "source": [
    "A_bounded_sum_B = [(round(min([1, A[i][0]+B[i][0]]),2),i+1) for i in range(10)]"
   ]
  },
  {
   "cell_type": "code",
   "execution_count": 27,
   "metadata": {
    "colab": {
     "base_uri": "https://localhost:8080/",
     "height": 201
    },
    "colab_type": "code",
    "id": "XxZrPY7g2yQa",
    "outputId": "bf75a6c7-462f-47df-9719-487c82b9ec18",
    "pycharm": {
     "is_executing": false
    }
   },
   "outputs": [
    {
     "data": {
      "text/plain": [
       "[(0.83, 1),\n",
       " (0.8, 2),\n",
       " (0.49, 3),\n",
       " (0.67, 4),\n",
       " (1, 5),\n",
       " (0.63, 6),\n",
       " (0.63, 7),\n",
       " (0.95, 8),\n",
       " (1, 9),\n",
       " (0.87, 10)]"
      ]
     },
     "execution_count": 27,
     "metadata": {},
     "output_type": "execute_result"
    }
   ],
   "source": [
    "A_bounded_sum_B"
   ]
  },
  {
   "cell_type": "markdown",
   "metadata": {},
   "source": [
    "### Bounded Difference Operation"
   ]
  },
  {
   "cell_type": "code",
   "execution_count": 28,
   "metadata": {
    "colab": {},
    "colab_type": "code",
    "id": "pgmisfNx20QY",
    "pycharm": {
     "is_executing": false
    }
   },
   "outputs": [],
   "source": [
    "A_bounded_difference_B = [(round(max([0, A[i][0]+B[i][0]-1]),2),i+1) for i in range(10)]"
   ]
  },
  {
   "cell_type": "code",
   "execution_count": 29,
   "metadata": {
    "colab": {
     "base_uri": "https://localhost:8080/",
     "height": 201
    },
    "colab_type": "code",
    "id": "mdJStSjD3QXm",
    "outputId": "4cf1a71f-5751-49a0-d163-9ce034dfc6c0",
    "pycharm": {
     "is_executing": false
    }
   },
   "outputs": [
    {
     "data": {
      "text/plain": [
       "[(0, 1),\n",
       " (0, 2),\n",
       " (0, 3),\n",
       " (0, 4),\n",
       " (0.31, 5),\n",
       " (0, 6),\n",
       " (0, 7),\n",
       " (0, 8),\n",
       " (0.53, 9),\n",
       " (0, 10)]"
      ]
     },
     "execution_count": 29,
     "metadata": {},
     "output_type": "execute_result"
    }
   ],
   "source": [
    "A_bounded_difference_B"
   ]
  },
  {
   "cell_type": "markdown",
   "metadata": {},
   "source": [
    "### Power of a Fuzzy Set - Dilation Operation"
   ]
  },
  {
   "cell_type": "code",
   "execution_count": 30,
   "metadata": {
    "colab": {},
    "colab_type": "code",
    "id": "c0SJqH3C3R8d",
    "pycharm": {
     "is_executing": false
    }
   },
   "outputs": [],
   "source": [
    "A_dilation = [(round(x[0]**0.6,2), x[1]) for x in A]"
   ]
  },
  {
   "cell_type": "code",
   "execution_count": 31,
   "metadata": {
    "colab": {
     "base_uri": "https://localhost:8080/",
     "height": 201
    },
    "colab_type": "code",
    "id": "iNQFyDvU3sbD",
    "outputId": "4801749b-b586-4f66-8b28-f968eea60bc0",
    "pycharm": {
     "is_executing": false
    }
   },
   "outputs": [
    {
     "data": {
      "text/plain": [
       "[(0.32, 1),\n",
       " (0.75, 2),\n",
       " (0.56, 3),\n",
       " (0.74, 4),\n",
       " (0.77, 5),\n",
       " (0.75, 6),\n",
       " (0.2, 7),\n",
       " (0.85, 8),\n",
       " (0.7, 9),\n",
       " (0.81, 10)]"
      ]
     },
     "execution_count": 31,
     "metadata": {},
     "output_type": "execute_result"
    }
   ],
   "source": [
    "A_dilation"
   ]
  },
  {
   "cell_type": "markdown",
   "metadata": {},
   "source": [
    "### Power of a Fuzzy Set - Concentration Operation"
   ]
  },
  {
   "cell_type": "code",
   "execution_count": 32,
   "metadata": {
    "colab": {},
    "colab_type": "code",
    "id": "c4DYfeZb3tj-",
    "pycharm": {
     "is_executing": false
    }
   },
   "outputs": [],
   "source": [
    "A_concentration = [(round(x[0]**1.2,2), x[1]) for x in A]"
   ]
  },
  {
   "cell_type": "code",
   "execution_count": 33,
   "metadata": {
    "colab": {
     "base_uri": "https://localhost:8080/",
     "height": 201
    },
    "colab_type": "code",
    "id": "Qy8-TsgM38Zo",
    "outputId": "fb844287-b11a-4910-c3d4-fb7cd8bcdd03",
    "pycharm": {
     "is_executing": false
    }
   },
   "outputs": [
    {
     "data": {
      "text/plain": [
       "[(0.1, 1),\n",
       " (0.56, 2),\n",
       " (0.31, 3),\n",
       " (0.55, 4),\n",
       " (0.59, 5),\n",
       " (0.56, 6),\n",
       " (0.04, 7),\n",
       " (0.73, 8),\n",
       " (0.49, 9),\n",
       " (0.66, 10)]"
      ]
     },
     "execution_count": 33,
     "metadata": {},
     "output_type": "execute_result"
    }
   ],
   "source": [
    "A_concentration"
   ]
  },
  {
   "cell_type": "markdown",
   "metadata": {},
   "source": [
    "### Fuzzy Relation - Cartesian Product"
   ]
  },
  {
   "cell_type": "code",
   "execution_count": 34,
   "metadata": {
    "colab": {},
    "colab_type": "code",
    "id": "pSR4oaV13_Xa",
    "pycharm": {
     "is_executing": false
    }
   },
   "outputs": [],
   "source": [
    "A_cartesian_product_B = [[min([x[0],y[0]]) for y in A] for x in B]"
   ]
  },
  {
   "cell_type": "code",
   "execution_count": 35,
   "metadata": {
    "colab": {
     "base_uri": "https://localhost:8080/",
     "height": 201
    },
    "colab_type": "code",
    "id": "bwRSH8nh4We-",
    "outputId": "8390c870-72a1-4d93-e824-5514c548ec4b",
    "pycharm": {
     "is_executing": false
    }
   },
   "outputs": [
    {
     "data": {
      "text/plain": [
       "[[0.15, 0.62, 0.38, 0.61, 0.64, 0.62, 0.07, 0.68, 0.55, 0.68],\n",
       " [0.15, 0.18, 0.18, 0.18, 0.18, 0.18, 0.07, 0.18, 0.18, 0.18],\n",
       " [0.11, 0.11, 0.11, 0.11, 0.11, 0.11, 0.07, 0.11, 0.11, 0.11],\n",
       " [0.06, 0.06, 0.06, 0.06, 0.06, 0.06, 0.06, 0.06, 0.06, 0.06],\n",
       " [0.15, 0.62, 0.38, 0.61, 0.64, 0.62, 0.07, 0.67, 0.55, 0.67],\n",
       " [0.01, 0.01, 0.01, 0.01, 0.01, 0.01, 0.01, 0.01, 0.01, 0.01],\n",
       " [0.15, 0.56, 0.38, 0.56, 0.56, 0.56, 0.07, 0.56, 0.55, 0.56],\n",
       " [0.15, 0.18, 0.18, 0.18, 0.18, 0.18, 0.07, 0.18, 0.18, 0.18],\n",
       " [0.15, 0.62, 0.38, 0.61, 0.64, 0.62, 0.07, 0.77, 0.55, 0.71],\n",
       " [0.15, 0.16, 0.16, 0.16, 0.16, 0.16, 0.07, 0.16, 0.16, 0.16]]"
      ]
     },
     "execution_count": 35,
     "metadata": {},
     "output_type": "execute_result"
    }
   ],
   "source": [
    "A_cartesian_product_B"
   ]
  },
  {
   "cell_type": "markdown",
   "metadata": {},
   "source": [
    "### Creating Random Fuzzy Sets X, Y and Z"
   ]
  },
  {
   "cell_type": "code",
   "execution_count": 36,
   "metadata": {
    "colab": {},
    "colab_type": "code",
    "id": "Vej8JYAD4Xq_",
    "pycharm": {
     "is_executing": false
    }
   },
   "outputs": [
    {
     "data": {
      "text/plain": [
       "[(0.99, 1), (0.01, 2), (0.79, 3)]"
      ]
     },
     "execution_count": 36,
     "metadata": {},
     "output_type": "execute_result"
    }
   ],
   "source": [
    "X = [(round(mu, 2), i+1) for i, mu in enumerate(ranf(size=(1,3))[0])]\n",
    "X"
   ]
  },
  {
   "cell_type": "code",
   "execution_count": 37,
   "metadata": {
    "pycharm": {
     "is_executing": false,
     "name": "#%%\n"
    }
   },
   "outputs": [
    {
     "data": {
      "text/plain": [
       "[(0.6, 1), (0.52, 2)]"
      ]
     },
     "execution_count": 37,
     "metadata": {},
     "output_type": "execute_result"
    }
   ],
   "source": [
    "Y = [(round(mu, 2), i+1) for i, mu in enumerate(ranf(size=(1,2))[0])]\n",
    "Y"
   ]
  },
  {
   "cell_type": "code",
   "execution_count": 38,
   "metadata": {
    "pycharm": {
     "is_executing": false,
     "name": "#%%\n"
    }
   },
   "outputs": [
    {
     "data": {
      "text/plain": [
       "[(0.45, 1), (0.78, 2), (0.87, 3)]"
      ]
     },
     "execution_count": 38,
     "metadata": {},
     "output_type": "execute_result"
    }
   ],
   "source": [
    "Z = [(round(mu, 2), i+1) for i, mu in enumerate(ranf(size=(1,3))[0])]\n",
    "Z"
   ]
  },
  {
   "cell_type": "markdown",
   "metadata": {},
   "source": [
    "### R - Cartesian Product of X and Y"
   ]
  },
  {
   "cell_type": "code",
   "execution_count": 39,
   "metadata": {
    "pycharm": {
     "is_executing": false,
     "name": "#%%\n"
    }
   },
   "outputs": [
    {
     "data": {
      "text/plain": [
       "[[0.6, 0.52], [0.01, 0.01], [0.6, 0.52]]"
      ]
     },
     "execution_count": 39,
     "metadata": {},
     "output_type": "execute_result"
    }
   ],
   "source": [
    "R =  [[min([x[0],y[0]]) for y in Y] for x in X]\n",
    "R"
   ]
  },
  {
   "cell_type": "markdown",
   "metadata": {},
   "source": [
    "### S - Cartesian Product of Y and Z"
   ]
  },
  {
   "cell_type": "code",
   "execution_count": 40,
   "metadata": {
    "pycharm": {
     "is_executing": false,
     "name": "#%%\n"
    }
   },
   "outputs": [
    {
     "data": {
      "text/plain": [
       "[[0.45, 0.6, 0.6], [0.45, 0.52, 0.52]]"
      ]
     },
     "execution_count": 40,
     "metadata": {},
     "output_type": "execute_result"
    }
   ],
   "source": [
    "S =  [[min([z[0],y[0]]) for z in Z] for y in Y]\n",
    "S"
   ]
  },
  {
   "cell_type": "markdown",
   "metadata": {},
   "source": [
    "### Fuzzy Set Relation - Min-Max Composition of R and S"
   ]
  },
  {
   "cell_type": "code",
   "execution_count": 41,
   "metadata": {
    "pycharm": {
     "is_executing": false,
     "name": "#%%\n"
    }
   },
   "outputs": [
    {
     "name": "stdout",
     "output_type": "stream",
     "text": [
      "[[0.45, 0.6, 0.6], [0.01, 0.01, 0.01], [0.45, 0.6, 0.6]]\n"
     ]
    }
   ],
   "source": [
    "np_R = array(R)\n",
    "np_S = array(S)\n",
    "R_max_min_composition_S = []\n",
    "\n",
    "if len(np_R[0]) == len(np_S):\n",
    "    for x in range(len(np_R)):\n",
    "        R_max_min_composition_S.append([])\n",
    "        for z in range(len(np_S[0])):\n",
    "            np_temp = array([np_R[x,:], np_S[:,z]])\n",
    "            R_max_min_composition_S[-1].append(max([min(np_temp[:,i])for i in range(len(np_temp))]))\n",
    "\n",
    "print(R_max_min_composition_S)"
   ]
  }
 ],
 "metadata": {
  "colab": {
   "name": "Fuzzy.ipynb",
   "provenance": [],
   "version": "0.3.2"
  },
  "kernelspec": {
   "display_name": "PyCharm (CSS)",
   "language": "python",
   "name": "pycharm-d055daed"
  },
  "language_info": {
   "codemirror_mode": {
    "name": "ipython",
    "version": 3
   },
   "file_extension": ".py",
   "mimetype": "text/x-python",
   "name": "python",
   "nbconvert_exporter": "python",
   "pygments_lexer": "ipython3",
   "version": "3.6.8"
  },
  "pycharm": {
   "stem_cell": {
    "cell_type": "raw",
    "metadata": {
     "collapsed": false
    },
    "source": []
   }
  }
 },
 "nbformat": 4,
 "nbformat_minor": 1
}
