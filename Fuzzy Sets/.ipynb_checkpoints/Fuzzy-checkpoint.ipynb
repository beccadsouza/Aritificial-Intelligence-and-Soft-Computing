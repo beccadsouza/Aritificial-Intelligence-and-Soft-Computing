{
 "cells": [
  {
   "cell_type": "code",
   "execution_count": 46,
   "metadata": {
    "colab": {},
    "colab_type": "code",
    "id": "vcQwuDY6tWDN",
    "pycharm": {
     "is_executing": false
    }
   },
   "outputs": [],
   "source": [
    "from numpy import *\n",
    "from numpy.random import *"
   ]
  },
  {
   "cell_type": "code",
   "execution_count": 2,
   "metadata": {
    "colab": {},
    "colab_type": "code",
    "id": "nVkua1n_tsRs",
    "pycharm": {
     "is_executing": false
    }
   },
   "outputs": [],
   "source": [
    "A = [(round(mu, 2), i+1) for i, mu in enumerate(ranf(size=(1,10))[0])]"
   ]
  },
  {
   "cell_type": "code",
   "execution_count": 3,
   "metadata": {
    "colab": {
     "base_uri": "https://localhost:8080/",
     "height": 201
    },
    "colab_type": "code",
    "id": "cGxH-oV0t6ot",
    "outputId": "12b7e8c6-7840-4704-c6b8-278aec4e8df0",
    "pycharm": {
     "is_executing": false
    }
   },
   "outputs": [
    {
     "data": {
      "text/plain": [
       "[(0.51, 1),\n",
       " (0.06, 2),\n",
       " (0.11, 3),\n",
       " (0.57, 4),\n",
       " (0.43, 5),\n",
       " (0.7, 6),\n",
       " (0.23, 7),\n",
       " (0.05, 8),\n",
       " (0.48, 9),\n",
       " (0.75, 10)]"
      ]
     },
     "execution_count": 3,
     "metadata": {},
     "output_type": "execute_result"
    }
   ],
   "source": [
    "A"
   ]
  },
  {
   "cell_type": "code",
   "execution_count": 4,
   "metadata": {
    "colab": {},
    "colab_type": "code",
    "id": "xavpthYBuRQK",
    "pycharm": {
     "is_executing": false
    }
   },
   "outputs": [],
   "source": [
    "B = [(round(mu, 2), i+1) for i, mu in enumerate(ranf(size=(1,10))[0])]"
   ]
  },
  {
   "cell_type": "code",
   "execution_count": 5,
   "metadata": {
    "colab": {
     "base_uri": "https://localhost:8080/",
     "height": 201
    },
    "colab_type": "code",
    "id": "9Nw8hyn1vMg-",
    "outputId": "8fd2435e-aadf-4b6b-e3e3-07e863d6f447",
    "pycharm": {
     "is_executing": false
    }
   },
   "outputs": [
    {
     "data": {
      "text/plain": [
       "[(0.91, 1),\n",
       " (0.26, 2),\n",
       " (0.55, 3),\n",
       " (0.8, 4),\n",
       " (0.4, 5),\n",
       " (0.17, 6),\n",
       " (0.35, 7),\n",
       " (0.58, 8),\n",
       " (0.92, 9),\n",
       " (0.33, 10)]"
      ]
     },
     "execution_count": 5,
     "metadata": {},
     "output_type": "execute_result"
    }
   ],
   "source": [
    "B"
   ]
  },
  {
   "cell_type": "code",
   "execution_count": 6,
   "metadata": {
    "colab": {},
    "colab_type": "code",
    "id": "-VwKoHStvNBG",
    "pycharm": {
     "is_executing": false
    }
   },
   "outputs": [],
   "source": [
    "A_union_B = [(max([A[i][0], B[i][0]]), i+1) for i in range(10)]"
   ]
  },
  {
   "cell_type": "code",
   "execution_count": 7,
   "metadata": {
    "colab": {
     "base_uri": "https://localhost:8080/",
     "height": 201
    },
    "colab_type": "code",
    "id": "PUiREHR5vghP",
    "outputId": "f64af56d-6897-4bdc-884e-d46ba703a7d2",
    "pycharm": {
     "is_executing": false
    }
   },
   "outputs": [
    {
     "data": {
      "text/plain": [
       "[(0.91, 1),\n",
       " (0.26, 2),\n",
       " (0.55, 3),\n",
       " (0.8, 4),\n",
       " (0.43, 5),\n",
       " (0.7, 6),\n",
       " (0.35, 7),\n",
       " (0.58, 8),\n",
       " (0.92, 9),\n",
       " (0.75, 10)]"
      ]
     },
     "execution_count": 7,
     "metadata": {},
     "output_type": "execute_result"
    }
   ],
   "source": [
    "A_union_B"
   ]
  },
  {
   "cell_type": "code",
   "execution_count": 8,
   "metadata": {
    "colab": {},
    "colab_type": "code",
    "id": "wEt-lstKvh5A",
    "pycharm": {
     "is_executing": false
    }
   },
   "outputs": [],
   "source": [
    "A_intersect_B = [(min([A[i][0], B[i][0]]), i+1) for i in range(10)]"
   ]
  },
  {
   "cell_type": "code",
   "execution_count": 9,
   "metadata": {
    "colab": {
     "base_uri": "https://localhost:8080/",
     "height": 201
    },
    "colab_type": "code",
    "id": "YaJZULHYvy5l",
    "outputId": "2421dd5a-8ea4-426b-a983-b076a470b512",
    "pycharm": {
     "is_executing": false
    }
   },
   "outputs": [
    {
     "data": {
      "text/plain": [
       "[(0.51, 1),\n",
       " (0.06, 2),\n",
       " (0.11, 3),\n",
       " (0.57, 4),\n",
       " (0.4, 5),\n",
       " (0.17, 6),\n",
       " (0.23, 7),\n",
       " (0.05, 8),\n",
       " (0.48, 9),\n",
       " (0.33, 10)]"
      ]
     },
     "execution_count": 9,
     "metadata": {},
     "output_type": "execute_result"
    }
   ],
   "source": [
    "A_intersect_B"
   ]
  },
  {
   "cell_type": "code",
   "execution_count": 10,
   "metadata": {
    "colab": {},
    "colab_type": "code",
    "id": "_wU0YIyRvz-l",
    "pycharm": {
     "is_executing": false
    }
   },
   "outputs": [],
   "source": [
    "A_complement = [(round(1-x[0],2), x[1]) for x in A]"
   ]
  },
  {
   "cell_type": "code",
   "execution_count": 11,
   "metadata": {
    "colab": {
     "base_uri": "https://localhost:8080/",
     "height": 201
    },
    "colab_type": "code",
    "id": "O6DE4TPjwUs0",
    "outputId": "5b4c4eac-4220-4eaf-d3ab-359d8b6d91ee",
    "pycharm": {
     "is_executing": false
    }
   },
   "outputs": [
    {
     "data": {
      "text/plain": [
       "[(0.49, 1),\n",
       " (0.94, 2),\n",
       " (0.89, 3),\n",
       " (0.43, 4),\n",
       " (0.57, 5),\n",
       " (0.3, 6),\n",
       " (0.77, 7),\n",
       " (0.95, 8),\n",
       " (0.52, 9),\n",
       " (0.25, 10)]"
      ]
     },
     "execution_count": 11,
     "metadata": {},
     "output_type": "execute_result"
    }
   ],
   "source": [
    "A_complement"
   ]
  },
  {
   "cell_type": "code",
   "execution_count": 12,
   "metadata": {
    "colab": {},
    "colab_type": "code",
    "id": "3c4SGu2NwV6P",
    "pycharm": {
     "is_executing": false
    }
   },
   "outputs": [],
   "source": [
    "B_complement = [(round(1-x[0],2), x[1]) for x in B]"
   ]
  },
  {
   "cell_type": "code",
   "execution_count": 13,
   "metadata": {
    "colab": {
     "base_uri": "https://localhost:8080/",
     "height": 201
    },
    "colab_type": "code",
    "id": "2UfHtBtJxDsT",
    "outputId": "3b56f520-8d40-432d-b9bd-d67265dbd10b",
    "pycharm": {
     "is_executing": false
    }
   },
   "outputs": [
    {
     "data": {
      "text/plain": [
       "[(0.09, 1),\n",
       " (0.74, 2),\n",
       " (0.45, 3),\n",
       " (0.2, 4),\n",
       " (0.6, 5),\n",
       " (0.83, 6),\n",
       " (0.65, 7),\n",
       " (0.42, 8),\n",
       " (0.08, 9),\n",
       " (0.67, 10)]"
      ]
     },
     "execution_count": 13,
     "metadata": {},
     "output_type": "execute_result"
    }
   ],
   "source": [
    "B_complement"
   ]
  },
  {
   "cell_type": "code",
   "execution_count": 14,
   "metadata": {
    "colab": {},
    "colab_type": "code",
    "id": "orI6Rf9dxExK",
    "pycharm": {
     "is_executing": false
    }
   },
   "outputs": [],
   "source": [
    "A_product_B = [(round(A[i][0]*B[i][0], 2), i+1) for i in range(10)]"
   ]
  },
  {
   "cell_type": "code",
   "execution_count": 15,
   "metadata": {
    "colab": {
     "base_uri": "https://localhost:8080/",
     "height": 201
    },
    "colab_type": "code",
    "id": "FI4r_2GezAv1",
    "outputId": "d5fb643b-9cb8-45ff-8a67-f830c2919389",
    "pycharm": {
     "is_executing": false
    }
   },
   "outputs": [
    {
     "data": {
      "text/plain": [
       "[(0.46, 1),\n",
       " (0.02, 2),\n",
       " (0.06, 3),\n",
       " (0.46, 4),\n",
       " (0.17, 5),\n",
       " (0.12, 6),\n",
       " (0.08, 7),\n",
       " (0.03, 8),\n",
       " (0.44, 9),\n",
       " (0.25, 10)]"
      ]
     },
     "execution_count": 15,
     "metadata": {},
     "output_type": "execute_result"
    }
   ],
   "source": [
    "A_product_B"
   ]
  },
  {
   "cell_type": "code",
   "execution_count": 16,
   "metadata": {
    "colab": {},
    "colab_type": "code",
    "id": "fpaPsRaHzCG3",
    "pycharm": {
     "is_executing": false
    }
   },
   "outputs": [],
   "source": [
    "A_scalar_product = [(round(0.65*x[0],2), x[1]) for x in A]"
   ]
  },
  {
   "cell_type": "code",
   "execution_count": 17,
   "metadata": {
    "colab": {
     "base_uri": "https://localhost:8080/",
     "height": 201
    },
    "colab_type": "code",
    "id": "I8N284ALz3CP",
    "outputId": "5c9784e2-7796-4b79-fb49-1fbe597a6c9b",
    "pycharm": {
     "is_executing": false
    }
   },
   "outputs": [
    {
     "data": {
      "text/plain": [
       "[(0.33, 1),\n",
       " (0.04, 2),\n",
       " (0.07, 3),\n",
       " (0.37, 4),\n",
       " (0.28, 5),\n",
       " (0.45, 6),\n",
       " (0.15, 7),\n",
       " (0.03, 8),\n",
       " (0.31, 9),\n",
       " (0.49, 10)]"
      ]
     },
     "execution_count": 17,
     "metadata": {},
     "output_type": "execute_result"
    }
   ],
   "source": [
    "A_scalar_product"
   ]
  },
  {
   "cell_type": "code",
   "execution_count": 18,
   "metadata": {
    "colab": {},
    "colab_type": "code",
    "id": "RPPYQNbXz4On",
    "pycharm": {
     "is_executing": false
    }
   },
   "outputs": [],
   "source": [
    "A_sum_B = [(round(A[i][0]+B[i][0]-A[i][0]*B[i][0], 2), i+1) for i in range(10)]"
   ]
  },
  {
   "cell_type": "code",
   "execution_count": 19,
   "metadata": {
    "colab": {
     "base_uri": "https://localhost:8080/",
     "height": 201
    },
    "colab_type": "code",
    "id": "k8kLWf7D0Yxq",
    "outputId": "fee033a9-91e9-4919-d5d3-62b2934b448f",
    "pycharm": {
     "is_executing": false
    }
   },
   "outputs": [
    {
     "data": {
      "text/plain": [
       "[(0.96, 1),\n",
       " (0.3, 2),\n",
       " (0.6, 3),\n",
       " (0.91, 4),\n",
       " (0.66, 5),\n",
       " (0.75, 6),\n",
       " (0.5, 7),\n",
       " (0.6, 8),\n",
       " (0.96, 9),\n",
       " (0.83, 10)]"
      ]
     },
     "execution_count": 19,
     "metadata": {},
     "output_type": "execute_result"
    }
   ],
   "source": [
    "A_sum_B"
   ]
  },
  {
   "cell_type": "code",
   "execution_count": 20,
   "metadata": {
    "colab": {},
    "colab_type": "code",
    "id": "g82LBb2P0aDd",
    "pycharm": {
     "is_executing": false
    }
   },
   "outputs": [],
   "source": [
    "A_difference_B =  [(round(A[i][0]*B_complement[i][0], 2), i+1) for i in range(10)]"
   ]
  },
  {
   "cell_type": "code",
   "execution_count": 21,
   "metadata": {
    "colab": {
     "base_uri": "https://localhost:8080/",
     "height": 201
    },
    "colab_type": "code",
    "id": "RIRET_z70k6r",
    "outputId": "1cc35416-e0ee-42d0-b6fc-f3b289d4b5d4",
    "pycharm": {
     "is_executing": false
    }
   },
   "outputs": [
    {
     "data": {
      "text/plain": [
       "[(0.05, 1),\n",
       " (0.04, 2),\n",
       " (0.05, 3),\n",
       " (0.11, 4),\n",
       " (0.26, 5),\n",
       " (0.58, 6),\n",
       " (0.15, 7),\n",
       " (0.02, 8),\n",
       " (0.04, 9),\n",
       " (0.5, 10)]"
      ]
     },
     "execution_count": 21,
     "metadata": {},
     "output_type": "execute_result"
    }
   ],
   "source": [
    "A_difference_B"
   ]
  },
  {
   "cell_type": "code",
   "execution_count": 22,
   "metadata": {
    "colab": {},
    "colab_type": "code",
    "id": "vm0Jabeg0mCk",
    "pycharm": {
     "is_executing": false
    }
   },
   "outputs": [],
   "source": [
    "B_difference_A = [(round(B[i][0]*A_complement[i][0], 2), i+1) for i in range(10)]"
   ]
  },
  {
   "cell_type": "code",
   "execution_count": 23,
   "metadata": {
    "colab": {
     "base_uri": "https://localhost:8080/",
     "height": 201
    },
    "colab_type": "code",
    "id": "yAGWZLRn1ESj",
    "outputId": "f4206104-a9e0-44a9-862e-4e12f6fb1906",
    "pycharm": {
     "is_executing": false
    }
   },
   "outputs": [
    {
     "data": {
      "text/plain": [
       "[(0.45, 1),\n",
       " (0.24, 2),\n",
       " (0.49, 3),\n",
       " (0.34, 4),\n",
       " (0.23, 5),\n",
       " (0.05, 6),\n",
       " (0.27, 7),\n",
       " (0.55, 8),\n",
       " (0.48, 9),\n",
       " (0.08, 10)]"
      ]
     },
     "execution_count": 23,
     "metadata": {},
     "output_type": "execute_result"
    }
   ],
   "source": [
    "B_difference_A"
   ]
  },
  {
   "cell_type": "code",
   "execution_count": 24,
   "metadata": {
    "colab": {},
    "colab_type": "code",
    "id": "ZTQK1qY91Fxi",
    "pycharm": {
     "is_executing": false
    }
   },
   "outputs": [],
   "source": [
    "A_disjunctive_sum_B = [(max([B_difference_A[i][0], A_difference_B[i][0]]), i+1) for i in range(10)]"
   ]
  },
  {
   "cell_type": "code",
   "execution_count": 25,
   "metadata": {
    "colab": {
     "base_uri": "https://localhost:8080/",
     "height": 201
    },
    "colab_type": "code",
    "id": "eFuv_LT81W96",
    "outputId": "e9c19d16-0f19-4090-a787-8597c2cd3481",
    "pycharm": {
     "is_executing": false
    }
   },
   "outputs": [
    {
     "data": {
      "text/plain": [
       "[(0.45, 1),\n",
       " (0.24, 2),\n",
       " (0.49, 3),\n",
       " (0.34, 4),\n",
       " (0.26, 5),\n",
       " (0.58, 6),\n",
       " (0.27, 7),\n",
       " (0.55, 8),\n",
       " (0.48, 9),\n",
       " (0.5, 10)]"
      ]
     },
     "execution_count": 25,
     "metadata": {},
     "output_type": "execute_result"
    }
   ],
   "source": [
    "A_disjunctive_sum_B"
   ]
  },
  {
   "cell_type": "code",
   "execution_count": 26,
   "metadata": {
    "colab": {},
    "colab_type": "code",
    "id": "sEXeCst11YZp",
    "pycharm": {
     "is_executing": false
    }
   },
   "outputs": [],
   "source": [
    "A_bounded_sum_B = [(round(min([1, A[i][0]+B[i][0]]),2),i+1) for i in range(10)]"
   ]
  },
  {
   "cell_type": "code",
   "execution_count": 27,
   "metadata": {
    "colab": {
     "base_uri": "https://localhost:8080/",
     "height": 201
    },
    "colab_type": "code",
    "id": "XxZrPY7g2yQa",
    "outputId": "bf75a6c7-462f-47df-9719-487c82b9ec18",
    "pycharm": {
     "is_executing": false
    }
   },
   "outputs": [
    {
     "data": {
      "text/plain": [
       "[(1, 1),\n",
       " (0.32, 2),\n",
       " (0.66, 3),\n",
       " (1, 4),\n",
       " (0.83, 5),\n",
       " (0.87, 6),\n",
       " (0.58, 7),\n",
       " (0.63, 8),\n",
       " (1, 9),\n",
       " (1, 10)]"
      ]
     },
     "execution_count": 27,
     "metadata": {},
     "output_type": "execute_result"
    }
   ],
   "source": [
    "A_bounded_sum_B"
   ]
  },
  {
   "cell_type": "code",
   "execution_count": 28,
   "metadata": {
    "colab": {},
    "colab_type": "code",
    "id": "pgmisfNx20QY",
    "pycharm": {
     "is_executing": false
    }
   },
   "outputs": [],
   "source": [
    "A_bounded_difference_B = [(round(max([0, A[i][0]+B[i][0]-1]),2),i+1) for i in range(10)]"
   ]
  },
  {
   "cell_type": "code",
   "execution_count": 29,
   "metadata": {
    "colab": {
     "base_uri": "https://localhost:8080/",
     "height": 201
    },
    "colab_type": "code",
    "id": "mdJStSjD3QXm",
    "outputId": "4cf1a71f-5751-49a0-d163-9ce034dfc6c0",
    "pycharm": {
     "is_executing": false
    }
   },
   "outputs": [
    {
     "data": {
      "text/plain": [
       "[(0.42, 1),\n",
       " (0, 2),\n",
       " (0, 3),\n",
       " (0.37, 4),\n",
       " (0, 5),\n",
       " (0, 6),\n",
       " (0, 7),\n",
       " (0, 8),\n",
       " (0.4, 9),\n",
       " (0.08, 10)]"
      ]
     },
     "execution_count": 29,
     "metadata": {},
     "output_type": "execute_result"
    }
   ],
   "source": [
    "A_bounded_difference_B"
   ]
  },
  {
   "cell_type": "code",
   "execution_count": 30,
   "metadata": {
    "colab": {},
    "colab_type": "code",
    "id": "c0SJqH3C3R8d",
    "pycharm": {
     "is_executing": false
    }
   },
   "outputs": [],
   "source": [
    "A_dilation = [(round(x[0]**0.6,2), x[1]) for x in A]"
   ]
  },
  {
   "cell_type": "code",
   "execution_count": 31,
   "metadata": {
    "colab": {
     "base_uri": "https://localhost:8080/",
     "height": 201
    },
    "colab_type": "code",
    "id": "iNQFyDvU3sbD",
    "outputId": "4801749b-b586-4f66-8b28-f968eea60bc0",
    "pycharm": {
     "is_executing": false
    }
   },
   "outputs": [
    {
     "data": {
      "text/plain": [
       "[(0.67, 1),\n",
       " (0.18, 2),\n",
       " (0.27, 3),\n",
       " (0.71, 4),\n",
       " (0.6, 5),\n",
       " (0.81, 6),\n",
       " (0.41, 7),\n",
       " (0.17, 8),\n",
       " (0.64, 9),\n",
       " (0.84, 10)]"
      ]
     },
     "execution_count": 31,
     "metadata": {},
     "output_type": "execute_result"
    }
   ],
   "source": [
    "A_dilation"
   ]
  },
  {
   "cell_type": "code",
   "execution_count": 32,
   "metadata": {
    "colab": {},
    "colab_type": "code",
    "id": "c4DYfeZb3tj-",
    "pycharm": {
     "is_executing": false
    }
   },
   "outputs": [],
   "source": [
    "A_concentration = [(round(x[0]**1.2,2), x[1]) for x in A]"
   ]
  },
  {
   "cell_type": "code",
   "execution_count": 33,
   "metadata": {
    "colab": {
     "base_uri": "https://localhost:8080/",
     "height": 201
    },
    "colab_type": "code",
    "id": "Qy8-TsgM38Zo",
    "outputId": "fb844287-b11a-4910-c3d4-fb7cd8bcdd03",
    "pycharm": {
     "is_executing": false
    }
   },
   "outputs": [
    {
     "data": {
      "text/plain": [
       "[(0.45, 1),\n",
       " (0.03, 2),\n",
       " (0.07, 3),\n",
       " (0.51, 4),\n",
       " (0.36, 5),\n",
       " (0.65, 6),\n",
       " (0.17, 7),\n",
       " (0.03, 8),\n",
       " (0.41, 9),\n",
       " (0.71, 10)]"
      ]
     },
     "execution_count": 33,
     "metadata": {},
     "output_type": "execute_result"
    }
   ],
   "source": [
    "A_concentration"
   ]
  },
  {
   "cell_type": "code",
   "execution_count": 34,
   "metadata": {
    "colab": {},
    "colab_type": "code",
    "id": "pSR4oaV13_Xa",
    "pycharm": {
     "is_executing": false
    }
   },
   "outputs": [],
   "source": [
    "A_cartesian_product_B = [[min([x[0],y[0]]) for y in A] for x in B]"
   ]
  },
  {
   "cell_type": "code",
   "execution_count": 35,
   "metadata": {
    "colab": {
     "base_uri": "https://localhost:8080/",
     "height": 201
    },
    "colab_type": "code",
    "id": "bwRSH8nh4We-",
    "outputId": "8390c870-72a1-4d93-e824-5514c548ec4b",
    "pycharm": {
     "is_executing": false
    }
   },
   "outputs": [
    {
     "data": {
      "text/plain": [
       "[[0.51, 0.06, 0.11, 0.57, 0.43, 0.7, 0.23, 0.05, 0.48, 0.75],\n",
       " [0.26, 0.06, 0.11, 0.26, 0.26, 0.26, 0.23, 0.05, 0.26, 0.26],\n",
       " [0.51, 0.06, 0.11, 0.55, 0.43, 0.55, 0.23, 0.05, 0.48, 0.55],\n",
       " [0.51, 0.06, 0.11, 0.57, 0.43, 0.7, 0.23, 0.05, 0.48, 0.75],\n",
       " [0.4, 0.06, 0.11, 0.4, 0.4, 0.4, 0.23, 0.05, 0.4, 0.4],\n",
       " [0.17, 0.06, 0.11, 0.17, 0.17, 0.17, 0.17, 0.05, 0.17, 0.17],\n",
       " [0.35, 0.06, 0.11, 0.35, 0.35, 0.35, 0.23, 0.05, 0.35, 0.35],\n",
       " [0.51, 0.06, 0.11, 0.57, 0.43, 0.58, 0.23, 0.05, 0.48, 0.58],\n",
       " [0.51, 0.06, 0.11, 0.57, 0.43, 0.7, 0.23, 0.05, 0.48, 0.75],\n",
       " [0.33, 0.06, 0.11, 0.33, 0.33, 0.33, 0.23, 0.05, 0.33, 0.33]]"
      ]
     },
     "execution_count": 35,
     "metadata": {},
     "output_type": "execute_result"
    }
   ],
   "source": [
    "A_cartesian_product_B"
   ]
  },
  {
   "cell_type": "code",
   "execution_count": 36,
   "metadata": {
    "colab": {},
    "colab_type": "code",
    "id": "Vej8JYAD4Xq_",
    "pycharm": {
     "is_executing": false
    }
   },
   "outputs": [
    {
     "data": {
      "text/plain": [
       "[(0.27, 1), (0.19, 2), (0.95, 3)]"
      ]
     },
     "execution_count": 36,
     "metadata": {},
     "output_type": "execute_result"
    }
   ],
   "source": [
    "X = [(round(mu, 2), i+1) for i, mu in enumerate(ranf(size=(1,3))[0])]\n",
    "X"
   ]
  },
  {
   "cell_type": "code",
   "execution_count": 37,
   "metadata": {
    "pycharm": {
     "is_executing": false,
     "name": "#%%\n"
    }
   },
   "outputs": [
    {
     "data": {
      "text/plain": [
       "[(0.24, 1), (0.15, 2)]"
      ]
     },
     "execution_count": 37,
     "metadata": {},
     "output_type": "execute_result"
    }
   ],
   "source": [
    "Y = [(round(mu, 2), i+1) for i, mu in enumerate(ranf(size=(1,2))[0])]\n",
    "Y"
   ]
  },
  {
   "cell_type": "code",
   "execution_count": 38,
   "metadata": {
    "pycharm": {
     "is_executing": false,
     "name": "#%%\n"
    }
   },
   "outputs": [
    {
     "data": {
      "text/plain": [
       "[(0.02, 1), (0.32, 2), (0.29, 3)]"
      ]
     },
     "execution_count": 38,
     "metadata": {},
     "output_type": "execute_result"
    }
   ],
   "source": [
    "Z = [(round(mu, 2), i+1) for i, mu in enumerate(ranf(size=(1,3))[0])]\n",
    "Z"
   ]
  },
  {
   "cell_type": "code",
   "execution_count": 39,
   "metadata": {
    "pycharm": {
     "is_executing": false,
     "name": "#%%\n"
    }
   },
   "outputs": [
    {
     "data": {
      "text/plain": [
       "[[0.24, 0.15], [0.19, 0.15], [0.24, 0.15]]"
      ]
     },
     "execution_count": 39,
     "metadata": {},
     "output_type": "execute_result"
    }
   ],
   "source": [
    "R =  [[min([x[0],y[0]]) for y in Y] for x in X]\n",
    "R"
   ]
  },
  {
   "cell_type": "code",
   "execution_count": 40,
   "metadata": {
    "pycharm": {
     "is_executing": false,
     "name": "#%%\n"
    }
   },
   "outputs": [
    {
     "data": {
      "text/plain": [
       "[[0.02, 0.24, 0.24], [0.02, 0.15, 0.15]]"
      ]
     },
     "execution_count": 40,
     "metadata": {},
     "output_type": "execute_result"
    }
   ],
   "source": [
    "S =  [[min([z[0],y[0]]) for z in Z] for y in Y]\n",
    "S"
   ]
  },
  {
   "cell_type": "code",
   "execution_count": 41,
   "metadata": {
    "pycharm": {
     "is_executing": false,
     "name": "#%%\n"
    }
   },
   "outputs": [
    {
     "name": "stdout",
     "output_type": "stream",
     "text": [
      "[[0.02, 0.24, 0.24], [0.02, 0.19, 0.19], [0.02, 0.24, 0.24]]\n"
     ]
    }
   ],
   "source": [
    "np_R = array(R)\n",
    "np_S = array(S)\n",
    "R_max_min_composition_S = []\n",
    "\n",
    "if len(np_R[0]) == len(np_S):\n",
    "\tfor x in range(len(np_R)):\n",
    "\t\tR_max_min_composition_S.append([])\n",
    "\t\tfor z in range(len(np_S[0])):\n",
    "\t\t\tnp_temp = array([np_R[x,:], np_S[:,z]])\n",
    "\t\t\tR_max_min_composition_S[-1].append(max([min(np_temp[:,i])for i in range(len(np_temp))]))\n",
    "\n",
    "print(R_max_min_composition_S)"
   ]
  },
  {
   "cell_type": "code",
   "execution_count": 42,
   "metadata": {
    "pycharm": {
     "is_executing": false,
     "name": "#%%\n"
    }
   },
   "outputs": [
    {
     "name": "stdout",
     "output_type": "stream",
     "text": [
      "[[0.02, 0.24, 0.24], [0.02, 0.19, 0.19], [0.02, 0.24, 0.24]]\n"
     ]
    }
   ],
   "source": [
    "print(R_max_min_composition_S)\n"
   ]
  }
 ],
 "metadata": {
  "colab": {
   "name": "Fuzzy.ipynb",
   "provenance": [],
   "version": "0.3.2"
  },
  "kernelspec": {
   "display_name": "PyCharm (CSS)",
   "language": "python",
   "name": "pycharm-d055daed"
  },
  "language_info": {
   "codemirror_mode": {
    "name": "ipython",
    "version": 3
   },
   "file_extension": ".py",
   "mimetype": "text/x-python",
   "name": "python",
   "nbconvert_exporter": "python",
   "pygments_lexer": "ipython3",
   "version": "3.6.8"
  },
  "pycharm": {
   "stem_cell": {
    "cell_type": "raw",
    "metadata": {
     "collapsed": false
    },
    "source": []
   }
  }
 },
 "nbformat": 4,
 "nbformat_minor": 1
}
