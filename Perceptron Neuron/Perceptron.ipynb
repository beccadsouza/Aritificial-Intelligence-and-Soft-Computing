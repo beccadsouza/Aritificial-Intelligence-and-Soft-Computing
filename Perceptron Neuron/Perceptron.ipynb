{
 "cells": [
  {
   "cell_type": "markdown",
   "metadata": {},
   "source": [
    "#### Apple and Oranges Dataset"
   ]
  },
  {
   "cell_type": "code",
   "execution_count": 1,
   "metadata": {},
   "outputs": [],
   "source": [
    "dataset = [\n",
    "    \n",
    "    [0.88, 0.34, 0],\n",
    "    [0.32, 0.95, 1],\n",
    "    [0.95, 0.15, 0],\n",
    "    [0.45, 0.75, 1],\n",
    "    [0.55, 0.85, 1],\n",
    "    [0.90, 0.30, 0],\n",
    "    [0.75, 0.25, 0],\n",
    "    [0.20, 0.80, 1],\n",
    "    [0.35, 0.85, 1],\n",
    "    [0.80, 0.22, 0],\n",
    "    [0.65, 0.80, 0],\n",
    "    [0.22, 0.90, 1],\n",
    "    [0.14, 0.74, 1],\n",
    "    [0.84, 0.22, 0],\n",
    "    [0.47, 0.76, 0],\n",
    "    [0.45, 0.79, 0],\n",
    "    [0.18, 0.80, 1],\n",
    "    [0.99, 0.10, 0],\n",
    "    [0.30, 0.87, 1],\n",
    "    [0.60, 0.89, 0]\n",
    "\n",
    "]"
   ]
  },
  {
   "cell_type": "markdown",
   "metadata": {},
   "source": [
    "#### Training and Testing Function for Perceptron Implementation"
   ]
  },
  {
   "cell_type": "code",
   "execution_count": 2,
   "metadata": {},
   "outputs": [],
   "source": [
    "def predict(row, weights):\n",
    "    \n",
    "    activation = weights[0]\n",
    "    \n",
    "    for i in range(len(row) - 1):\n",
    "    \n",
    "        activation += weights[i + 1] * row[i]\n",
    "    \n",
    "    threshold = 0.0\n",
    "    \n",
    "    return 1.0 if activation >= threshold else 0.0"
   ]
  },
  {
   "cell_type": "code",
   "execution_count": 3,
   "metadata": {},
   "outputs": [],
   "source": [
    "def test_data(weights):\n",
    "    \n",
    "    for row in dataset:\n",
    "    \n",
    "        prediction = predict(row, weights)\n",
    "        \n",
    "        if row[-1] == 0:\n",
    "            exp = \"apple\"\n",
    "        else:\n",
    "            exp = \"orange\"\n",
    "            \n",
    "        if prediction == 0:\n",
    "            pred = \"apple\"\n",
    "        else:\n",
    "            pred = \"orange\"\n",
    "            \n",
    "        print('expected = {0}'.format(exp).ljust(20) + 'predicted = {0}'.format(pred).center(20))"
   ]
  },
  {
   "cell_type": "code",
   "execution_count": 4,
   "metadata": {},
   "outputs": [],
   "source": [
    "def train_weights(train, l_rate, n_epoch):\n",
    "    \n",
    "    weights = [0.0 for i in range(len(train[0]))]\n",
    "    \n",
    "    for epoch in range(n_epoch):\n",
    "        \n",
    "        sum_error = 0.0\n",
    "        \n",
    "        for row in train:\n",
    "    \n",
    "            prediction = predict(row, weights)\n",
    "            target = row[-1] - prediction\n",
    "            weights[0] = weights[0] + l_rate * target\n",
    "            \n",
    "            for i in range(len(row) - 1):\n",
    "                \n",
    "                weights[i + 1] = weights[i + 1] + l_rate * target * row[i]\n",
    "    \n",
    "    return weights"
   ]
  },
  {
   "cell_type": "markdown",
   "metadata": {},
   "source": [
    "#### Testing data with untrained weights"
   ]
  },
  {
   "cell_type": "code",
   "execution_count": 5,
   "metadata": {},
   "outputs": [
    {
     "name": "stdout",
     "output_type": "stream",
     "text": [
      "expected = apple     predicted = orange \n",
      "expected = orange    predicted = orange \n",
      "expected = apple     predicted = apple  \n",
      "expected = orange    predicted = orange \n",
      "expected = orange    predicted = orange \n",
      "expected = apple     predicted = orange \n",
      "expected = apple     predicted = apple  \n",
      "expected = orange    predicted = orange \n",
      "expected = orange    predicted = orange \n",
      "expected = apple     predicted = apple  \n",
      "expected = apple     predicted = orange \n",
      "expected = orange    predicted = orange \n",
      "expected = orange    predicted = apple  \n",
      "expected = apple     predicted = apple  \n",
      "expected = apple     predicted = orange \n",
      "expected = apple     predicted = orange \n",
      "expected = orange    predicted = orange \n",
      "expected = apple     predicted = apple  \n",
      "expected = orange    predicted = orange \n",
      "expected = apple     predicted = orange \n"
     ]
    }
   ],
   "source": [
    "weights_before_training = [-0.25, 0.20653640140000007, 0.275]\n",
    "\n",
    "test_data(weights_before_training)"
   ]
  },
  {
   "cell_type": "markdown",
   "metadata": {},
   "source": [
    "#### Training of weights"
   ]
  },
  {
   "cell_type": "code",
   "execution_count": 6,
   "metadata": {},
   "outputs": [
    {
     "name": "stdout",
     "output_type": "stream",
     "text": [
      "The updated bias and weights are = [0.0, -1.1324999999999998, 0.4200000000000001]\n"
     ]
    }
   ],
   "source": [
    "l_rate = 0.25\n",
    "n_epoch = 10\n",
    "weights_after_training = train_weights(dataset, l_rate, n_epoch)\n",
    "print(\"The updated bias and weights are = {0}\".format(weights_after_training))"
   ]
  },
  {
   "cell_type": "markdown",
   "metadata": {},
   "source": [
    "#### Testing of data with trained weights"
   ]
  },
  {
   "cell_type": "code",
   "execution_count": 7,
   "metadata": {},
   "outputs": [
    {
     "name": "stdout",
     "output_type": "stream",
     "text": [
      "expected = apple     predicted = apple  \n",
      "expected = orange    predicted = orange \n",
      "expected = apple     predicted = apple  \n",
      "expected = orange    predicted = apple  \n",
      "expected = orange    predicted = apple  \n",
      "expected = apple     predicted = apple  \n",
      "expected = apple     predicted = apple  \n",
      "expected = orange    predicted = orange \n",
      "expected = orange    predicted = apple  \n",
      "expected = apple     predicted = apple  \n",
      "expected = apple     predicted = apple  \n",
      "expected = orange    predicted = orange \n",
      "expected = orange    predicted = orange \n",
      "expected = apple     predicted = apple  \n",
      "expected = apple     predicted = apple  \n",
      "expected = apple     predicted = apple  \n",
      "expected = orange    predicted = orange \n",
      "expected = apple     predicted = apple  \n",
      "expected = orange    predicted = orange \n",
      "expected = apple     predicted = apple  \n"
     ]
    }
   ],
   "source": [
    "test_data(weights_after_training)"
   ]
  }
 ],
 "metadata": {
  "kernelspec": {
   "display_name": "Python 3",
   "language": "python",
   "name": "python3"
  },
  "language_info": {
   "codemirror_mode": {
    "name": "ipython",
    "version": 2
   },
   "file_extension": ".py",
   "mimetype": "text/x-python",
   "name": "python",
   "nbconvert_exporter": "python",
   "pygments_lexer": "ipython2",
   "version": "2.7.15+"
  }
 },
 "nbformat": 4,
 "nbformat_minor": 2
}
