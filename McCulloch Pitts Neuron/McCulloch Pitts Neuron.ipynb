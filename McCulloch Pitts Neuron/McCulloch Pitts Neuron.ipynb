{
 "cells": [
  {
   "cell_type": "markdown",
   "metadata": {},
   "source": [
    "#### Importing libraries"
   ]
  },
  {
   "cell_type": "code",
   "execution_count": 1,
   "metadata": {},
   "outputs": [],
   "source": [
    "from random import *"
   ]
  },
  {
   "cell_type": "markdown",
   "metadata": {},
   "source": [
    "#### Logical gates implementation\n",
    "\n",
    "Every function has been implemented as a MCP Neuron"
   ]
  },
  {
   "cell_type": "code",
   "execution_count": 2,
   "metadata": {},
   "outputs": [],
   "source": [
    "def and_gate(arg1, arg2):\n",
    "    wt = [1, 1]\n",
    "    threshold = 2\n",
    "\n",
    "    if wt[0]*arg1 + wt[1]*arg2 >= threshold: return 1\n",
    "    else: return 0\n",
    "\n",
    "\n",
    "def not_gate(arg1):\n",
    "    wt = [-1]\n",
    "    threshold = 0\n",
    "\n",
    "    if wt[0]*arg1 >= threshold: return 1\n",
    "    else: return 0\n",
    "\n",
    "\n",
    "def or_gate(arg1, arg2):\n",
    "    wt = [1, 1]\n",
    "    threshold = 1\n",
    "\n",
    "    if wt[0] * arg1 + wt[1] * arg2 >= threshold: return 1\n",
    "    else: return 0\n",
    "\n",
    "\n",
    "def xor_gate(arg1, arg2):\n",
    "    return or_gate(and_gate(arg1, not_gate(arg2)), and_gate(not_gate(arg1), arg2))\n",
    "\n",
    "\n",
    "def half_adder(arg1, arg2):\n",
    "    add = xor_gate(arg1, arg2)\n",
    "    carry = and_gate(arg1, arg2)\n",
    "    return add, carry"
   ]
  },
  {
   "cell_type": "markdown",
   "metadata": {},
   "source": [
    "#### Applying the inputs to the MCP Neurons\n",
    "\n",
    "Inputs are standard logic gate inputs"
   ]
  },
  {
   "cell_type": "code",
   "execution_count": 3,
   "metadata": {},
   "outputs": [
    {
     "name": "stdout",
     "output_type": "stream",
     "text": [
      "0 AND 0 = 0\n",
      "0 OR 0 = 0\n",
      "0 ADD 0 : SUM = 0 CARRY = 0\n",
      "------------------------------\n",
      "0 AND 1 = 0\n",
      "0 OR 1 = 1\n",
      "0 ADD 1 : SUM = 1 CARRY = 0\n",
      "------------------------------\n",
      "1 AND 0 = 0\n",
      "1 OR 0 = 1\n",
      "1 ADD 0 : SUM = 1 CARRY = 0\n",
      "------------------------------\n",
      "1 AND 1 = 1\n",
      "1 OR 1 = 1\n",
      "1 ADD 1 : SUM = 0 CARRY = 1\n",
      "------------------------------\n",
      "NOT 3 = 0\n",
      "NOT 2 = 0\n",
      "NOT -4 = 1\n"
     ]
    }
   ],
   "source": [
    "for ip in [[0, 0], [0, 1], [1, 0], [1, 1]]:\n",
    "    print('{0} AND {1} = {2}'.format(ip[0], ip[1], and_gate(ip[0], ip[1])))\n",
    "    print('{0} OR {1} = {2}'.format(ip[0], ip[1], or_gate(ip[0], ip[1])))\n",
    "    ans = half_adder(ip[0], ip[1])\n",
    "    print('{0} ADD {1} : SUM = {2} CARRY = {3}'.format(ip[0], ip[1], ans[0], ans[1]))\n",
    "    print('-'*30)\n",
    "\n",
    "for ip in [randrange(-10, 5) for _ in range(10)][::2][:3]:\n",
    "    print('NOT {0} = {1}'.format(ip, not_gate(ip)))"
   ]
  }
 ],
 "metadata": {
  "kernelspec": {
   "display_name": "Python 3",
   "language": "python",
   "name": "python3"
  },
  "language_info": {
   "codemirror_mode": {
    "name": "ipython",
    "version": 3
   },
   "file_extension": ".py",
   "mimetype": "text/x-python",
   "name": "python",
   "nbconvert_exporter": "python",
   "pygments_lexer": "ipython3",
   "version": "3.6.8"
  }
 },
 "nbformat": 4,
 "nbformat_minor": 2
}
